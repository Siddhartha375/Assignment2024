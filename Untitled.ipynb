{
 "cells": [
  {
   "cell_type": "code",
   "execution_count": 2,
   "id": "9c95732f-bf57-4568-8d76-a9de500e9dd1",
   "metadata": {},
   "outputs": [
    {
     "name": "stdout",
     "output_type": "stream",
     "text": [
      "24\n",
      "18\n",
      "63\n",
      "7.0\n"
     ]
    }
   ],
   "source": [
    "##, Calculate the sum, difference, product, and quotient of two numbers.\n",
    "a=21\n",
    "b=3\n",
    "sum=a+b\n",
    "diff=a-b\n",
    "prod=a*b\n",
    "quo=a/b\n",
    "print(sum)\n",
    "print(diff)\n",
    "print(prod)\n",
    "print(quo)"
   ]
  },
  {
   "cell_type": "code",
   "execution_count": 3,
   "id": "d4e3df2b-86fb-43fd-819a-99d779575605",
   "metadata": {},
   "outputs": [
    {
     "name": "stdout",
     "output_type": "stream",
     "text": [
      "12\n",
      "10\n",
      "20\n",
      "10.0\n",
      "5.0\n",
      "1.0\n"
     ]
    }
   ],
   "source": [
    "# Perform various assignment operations on a variable.\n",
    "a=10\n",
    "b=2\n",
    "\n",
    "a+=b\n",
    "print(a)\n",
    "a-=b\n",
    "print(a)\n",
    "a*=b\n",
    "print(a)\n",
    "a/=b\n",
    "print(a)\n",
    "a//=b\n",
    "print(a)\n",
    "a%=b\n",
    "print(a)"
   ]
  },
  {
   "cell_type": "code",
   "execution_count": 6,
   "id": "09afd313-bd7a-4538-ab93-ad199e5fca79",
   "metadata": {},
   "outputs": [
    {
     "name": "stdout",
     "output_type": "stream",
     "text": [
      "False\n",
      "True\n"
     ]
    }
   ],
   "source": [
    "#Compare two numbers and print the results.\n",
    "a=12\n",
    "b=22\n",
    "print(a>b)\n",
    "print(a<b)"
   ]
  },
  {
   "cell_type": "code",
   "execution_count": 21,
   "id": "82b1f2f0-b054-4863-af12-24d4b1a979ed",
   "metadata": {},
   "outputs": [
    {
     "name": "stdout",
     "output_type": "stream",
     "text": [
      "False\n",
      "True\n",
      "False\n"
     ]
    }
   ],
   "source": [
    "#Check conditions using logical operators.\n",
    "print(1>3 and 5>4)\n",
    "print(5>3 or 3>4)\n",
    "value=True\n",
    "result=not value\n",
    "print(result)"
   ]
  },
  {
   "cell_type": "code",
   "execution_count": 26,
   "id": "40ba9385-4d24-427a-9729-df430734df09",
   "metadata": {},
   "outputs": [
    {
     "name": "stdout",
     "output_type": "stream",
     "text": [
      "{140441875131888}\n",
      "{140441875131888}\n",
      "{140441807727616}\n"
     ]
    }
   ],
   "source": [
    "#Check the identity of variables.\n",
    "variable1=\"hello\"\n",
    "variable2=\"hello\"\n",
    "variable3=[1,2,3]\n",
    "print({id(variable1)})\n",
    "print({id(variable2)})\n",
    "print({id(variable3)})"
   ]
  },
  {
   "cell_type": "code",
   "execution_count": 38,
   "id": "640e2ac3-1221-4c38-bdae-9f982dc69d94",
   "metadata": {},
   "outputs": [
    {
     "name": "stdout",
     "output_type": "stream",
     "text": [
      "0\n",
      "5\n",
      "-5\n",
      "5\n",
      "8\n",
      "2\n"
     ]
    }
   ],
   "source": [
    "#Perform bitwise operations on any two integers.\n",
    "a=4\n",
    "b=1\n",
    "print(a & b) #and\n",
    "print(a | b) #or\n",
    "print(~ a) #not\n",
    "print(a ^ b) #xor\n",
    "print(a<<b) #left shift\n",
    "print(a>>b) #right shift"
   ]
  },
  {
   "cell_type": "code",
   "execution_count": 39,
   "id": "9dbf34b8-5fd7-4d62-a889-2ecfb4a250d4",
   "metadata": {},
   "outputs": [
    {
     "name": "stdout",
     "output_type": "stream",
     "text": [
      "-5\n"
     ]
    }
   ],
   "source": [
    "#, Use unary operators to change the sign of a number.\n",
    "n=5\n",
    "negated=-n\n",
    "print(negated)"
   ]
  },
  {
   "cell_type": "code",
   "execution_count": 43,
   "id": "b4c235f1-20fe-4673-8a0e-781f5664c0c4",
   "metadata": {},
   "outputs": [
    {
     "name": "stdout",
     "output_type": "stream",
     "text": [
      "-4\n"
     ]
    }
   ],
   "source": [
    "#Use the ternary operator to assign values based on conditions.\n",
    "n=4\n",
    "nagated=-n if n>0 else n #using ternary operator\n",
    "print(nagated)"
   ]
  },
  {
   "cell_type": "code",
   "execution_count": null,
   "id": "df8e347c-8d97-462b-8641-209869dbb0ae",
   "metadata": {},
   "outputs": [],
   "source": []
  }
 ],
 "metadata": {
  "kernelspec": {
   "display_name": "Python 3 (ipykernel)",
   "language": "python",
   "name": "python3"
  },
  "language_info": {
   "codemirror_mode": {
    "name": "ipython",
    "version": 3
   },
   "file_extension": ".py",
   "mimetype": "text/x-python",
   "name": "python",
   "nbconvert_exporter": "python",
   "pygments_lexer": "ipython3",
   "version": "3.10.8"
  }
 },
 "nbformat": 4,
 "nbformat_minor": 5
}
