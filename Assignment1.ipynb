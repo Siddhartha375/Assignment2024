{
 "cells": [
  {
   "cell_type": "code",
   "execution_count": 30,
   "id": "82e600a5-be42-40d1-9304-ca58f41db0be",
   "metadata": {},
   "outputs": [
    {
     "name": "stdout",
     "output_type": "stream",
     "text": [
      "76\n"
     ]
    },
    {
     "data": {
      "text/plain": [
       "76.0"
      ]
     },
     "execution_count": 30,
     "metadata": {},
     "output_type": "execute_result"
    }
   ],
   "source": [
    "#Covert a iteger to a floatig-poit umber.\n",
    "a=76\n",
    "print(a)\n",
    "float(76)"
   ]
  },
  {
   "cell_type": "code",
   "execution_count": 31,
   "id": "34dc1cb5-4b79-4627-8fad-d2297af21548",
   "metadata": {},
   "outputs": [
    {
     "name": "stdout",
     "output_type": "stream",
     "text": [
      "9.66\n"
     ]
    },
    {
     "data": {
      "text/plain": [
       "9"
      ]
     },
     "execution_count": 31,
     "metadata": {},
     "output_type": "execute_result"
    }
   ],
   "source": [
    "#Covert a float to a iteger.\n",
    "a=9.66\n",
    "print(a)\n",
    "int(a)"
   ]
  },
  {
   "cell_type": "code",
   "execution_count": 32,
   "id": "e979ed57-7410-4221-9602-700ca8a4a05c",
   "metadata": {},
   "outputs": [
    {
     "data": {
      "text/plain": [
       "'9'"
      ]
     },
     "execution_count": 32,
     "metadata": {},
     "output_type": "execute_result"
    }
   ],
   "source": [
    "#2 Covert a iteger to a strig.\n",
    "str(9)"
   ]
  },
  {
   "cell_type": "code",
   "execution_count": 38,
   "id": "d383455d-1373-4638-807b-f0f8208b2796",
   "metadata": {},
   "outputs": [],
   "source": [
    "#C Covert a list to a tuple.\n",
    "li=[1,23,4]\n",
    "tu=tuple(li)\n",
    "print(li)\n",
    "print(tu)"
   ]
  },
  {
   "cell_type": "code",
   "execution_count": 39,
   "id": "c04c4f1b-0b3e-42ca-b35c-e62e5ba9bb50",
   "metadata": {},
   "outputs": [],
   "source": [
    "# 5. Covert a tuple to a list.\n",
    "my_tuple=(1,2,3,4)\n",
    "my_list=list(my_tuple)\n",
    "print(my_tuple)\n",
    "print(my_list)"
   ]
  },
  {
   "cell_type": "code",
   "execution_count": 41,
   "id": "5f12e8b9-80c4-4900-ab66-e956b555ca8d",
   "metadata": {},
   "outputs": [
    {
     "name": "stdout",
     "output_type": "stream",
     "text": [
      "0b1100\n"
     ]
    }
   ],
   "source": [
    "#Covert a decimal umber to biary.\n",
    "num=12\n",
    "binary=bin(num)\n",
    "print(binary)"
   ]
  },
  {
   "cell_type": "code",
   "execution_count": 45,
   "id": "1a0e30bb-ae72-42b8-8459-917aafecb6dd",
   "metadata": {},
   "outputs": [
    {
     "name": "stdout",
     "output_type": "stream",
     "text": [
      "True\n"
     ]
    }
   ],
   "source": [
    "#^ Covert a non-zero number to boolean.\n",
    "non_zero=42\n",
    "boolean=bool(non_zero)\n",
    "print(boolean)"
   ]
  },
  {
   "cell_type": "code",
   "execution_count": null,
   "id": "db7bb13b-d2bc-49b9-968b-35f187525c33",
   "metadata": {},
   "outputs": [],
   "source": []
  }
 ],
 "metadata": {
  "kernelspec": {
   "display_name": "Python 3 (ipykernel)",
   "language": "python",
   "name": "python3"
  },
  "language_info": {
   "codemirror_mode": {
    "name": "ipython",
    "version": 3
   },
   "file_extension": ".py",
   "mimetype": "text/x-python",
   "name": "python",
   "nbconvert_exporter": "python",
   "pygments_lexer": "ipython3",
   "version": "3.10.8"
  }
 },
 "nbformat": 4,
 "nbformat_minor": 5
}
